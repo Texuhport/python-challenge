{
 "cells": [
  {
   "cell_type": "code",
   "execution_count": null,
   "id": "95dcb969-4905-451e-8a02-849107787db9",
   "metadata": {},
   "outputs": [],
   "source": [
    "#Import Libraries"
   ]
  },
  {
   "cell_type": "code",
   "execution_count": 22,
   "id": "e4764267-d01d-4aaf-a3e1-cb5ecb49bba8",
   "metadata": {},
   "outputs": [],
   "source": [
    "import csv\n",
    "import pandas as pd\n",
    "from pathlib import Path"
   ]
  },
  {
   "cell_type": "code",
   "execution_count": null,
   "id": "f47c9600-ecea-4076-a460-c7ef20218666",
   "metadata": {},
   "outputs": [],
   "source": [
    "#Import CSV Data"
   ]
  },
  {
   "cell_type": "code",
   "execution_count": 67,
   "id": "5401de04-bcbc-480f-9939-99444458c399",
   "metadata": {
    "tags": []
   },
   "outputs": [],
   "source": [
    "budgetpath= Path(r\"C:\\Users\\Oluwa\\GITHUB\\Lesson_Test\\ASSIGNMENTS\\Assignment 2\\python-challenge\\PyBank\\Resources\\budget_data.csv\")\n",
    "budget_sheet= pd.read_csv(budgetpath)\n",
    "budget_dataframe= pd.DataFrame(budget_sheet)"
   ]
  },
  {
   "cell_type": "code",
   "execution_count": null,
   "id": "6ebb473c-dfe2-4d10-801c-f0c3bf43c895",
   "metadata": {},
   "outputs": [],
   "source": [
    "#Financial Calculations"
   ]
  },
  {
   "cell_type": "code",
   "execution_count": 110,
   "id": "a72e4225-1d5a-47d3-9da7-e09566ba6dee",
   "metadata": {
    "tags": []
   },
   "outputs": [],
   "source": [
    "Month_Counter=len(budget_dataframe) #number of months represented\n",
    "\n",
    "pl_sum=budget_dataframe['Profit/Losses'].sum() #total profit losses\n",
    "\n",
    "budget_dataframe['previousMonthPL']=budget_dataframe['Profit/Losses'].shift(1, fill_value=0) #create new column to track the Previous Month PL\n",
    "\n",
    "budget_dataframe['Diff']=budget_dataframe['Profit/Losses']-budget_dataframe['previousMonthPL'] #calculate the PL differences month to month\n",
    "\n",
    "accuratepl=budget_dataframe.iloc[1:,3] #pl minus the first month difference\n",
    "\n",
    "AveragePL= sum(accuratepl)/len(accuratepl) #find the average PL over the whole period"
   ]
  },
  {
   "cell_type": "code",
   "execution_count": 113,
   "id": "5bb3335c-9c55-42b7-984e-ea783c8a0854",
   "metadata": {
    "tags": []
   },
   "outputs": [],
   "source": [
    "#pinpoint the greatest profit increase\n",
    "for row in budget_dataframe.index:\n",
    "    if budget_dataframe['Diff'][row]==max(accuratepl):\n",
    "        MaxIncrease= budget_dataframe['Date'][row], budget_dataframe['Diff'][row]"
   ]
  },
  {
   "cell_type": "code",
   "execution_count": 114,
   "id": "05555b5e-e3e3-431c-afc0-c9535044f98f",
   "metadata": {
    "tags": []
   },
   "outputs": [],
   "source": [
    "#pinpoint the greatest profit loss\n",
    "for row in budget_dataframe.index:\n",
    "    if budget_dataframe['Diff'][row]==min(accuratepl):\n",
    "        MaxDecrease= budget_dataframe['Date'][row], budget_dataframe['Diff'][row]"
   ]
  },
  {
   "cell_type": "code",
   "execution_count": null,
   "id": "446f5f3b-4db3-4e9a-b746-6db47edcc9cf",
   "metadata": {},
   "outputs": [],
   "source": [
    "#Financial Analysis Report"
   ]
  },
  {
   "cell_type": "code",
   "execution_count": 127,
   "id": "485bc51c-1c26-49d7-b5e1-1dd139daef00",
   "metadata": {
    "tags": []
   },
   "outputs": [
    {
     "name": "stdout",
     "output_type": "stream",
     "text": [
      "Financial Analysis\n",
      "Report by Oluwademilade Oyebanji\n",
      "\n",
      "--------------------\n",
      "\n",
      "Total Number of Months: 86\n",
      "PL Total: 38382578\n",
      "Average PL Change: -2315.1176470588234\n",
      "Greatest Profit Increase: ('Feb-2012', 1926159)\n",
      "Greatest Profit Loss: ('Sep-2013', -2196167)\n"
     ]
    }
   ],
   "source": [
    "print(\"Financial Analysis\")\n",
    "print(\"Report by Oluwademilade Oyebanji\")\n",
    "print(\"\")\n",
    "print(\"--------------------\")\n",
    "print(\"\")\n",
    "print(f\"Total Number of Months: {Month_Counter}\")\n",
    "print(f\"PL Total: {pl_sum}\")\n",
    "print(f\"Average PL Change: {AveragePL}\")\n",
    "print(f\"Greatest Profit Increase: {MaxIncrease}\")\n",
    "print(f\"Greatest Profit Loss: {MaxDecrease}\")"
   ]
  }
 ],
 "metadata": {
  "kernelspec": {
   "display_name": "Python 3 (ipykernel)",
   "language": "python",
   "name": "python3"
  },
  "language_info": {
   "codemirror_mode": {
    "name": "ipython",
    "version": 3
   },
   "file_extension": ".py",
   "mimetype": "text/x-python",
   "name": "python",
   "nbconvert_exporter": "python",
   "pygments_lexer": "ipython3",
   "version": "3.10.12"
  }
 },
 "nbformat": 4,
 "nbformat_minor": 5
}
